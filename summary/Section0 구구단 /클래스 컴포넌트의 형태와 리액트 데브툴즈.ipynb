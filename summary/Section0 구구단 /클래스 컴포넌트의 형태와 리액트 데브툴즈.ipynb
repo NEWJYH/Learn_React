{
 "cells": [
  {
   "cell_type": "markdown",
   "id": "ff7de6c3",
   "metadata": {},
   "source": [
    "# 객체를 함부로 바꾸지 마라\n"
   ]
  },
  {
   "cell_type": "markdown",
   "id": "f544bfe2",
   "metadata": {},
   "source": [
    "### 리엑트에서는 직접적으로 바꾸면 안됨\n",
    "### 복사해라(불변성)"
   ]
  },
  {
   "cell_type": "markdown",
   "id": "46f8a8d7",
   "metadata": {},
   "source": [
    "---"
   ]
  },
  {
   "cell_type": "markdown",
   "id": "7933fde2",
   "metadata": {},
   "source": [
    "### 리엑트 데브툴 사용하기"
   ]
  },
  {
   "cell_type": "markdown",
   "id": "de4b0bb4",
   "metadata": {},
   "source": [
    "### react developtools 검색"
   ]
  },
  {
   "cell_type": "markdown",
   "id": "a5aa1760",
   "metadata": {},
   "source": []
  },
  {
   "cell_type": "markdown",
   "id": "17262218",
   "metadata": {},
   "source": []
  },
  {
   "cell_type": "markdown",
   "id": "c1638131",
   "metadata": {},
   "source": []
  }
 ],
 "metadata": {
  "kernelspec": {
   "display_name": "Python 3 (ipykernel)",
   "language": "python",
   "name": "python3"
  },
  "language_info": {
   "codemirror_mode": {
    "name": "ipython",
    "version": 3
   },
   "file_extension": ".py",
   "mimetype": "text/x-python",
   "name": "python",
   "nbconvert_exporter": "python",
   "pygments_lexer": "ipython3",
   "version": "3.9.13"
  }
 },
 "nbformat": 4,
 "nbformat_minor": 5
}
