{
 "cells": [
  {
   "cell_type": "markdown",
   "id": "2bb2fd16",
   "metadata": {},
   "source": [
    "# 바벨 라이브러리\n",
    "\n",
    "# ### JSX 코드를 보면 리엑트 엘리먼트로 바꿔줌 "
   ]
  }
 ],
 "metadata": {
  "kernelspec": {
   "display_name": "Python 3 (ipykernel)",
   "language": "python",
   "name": "python3"
  },
  "language_info": {
   "codemirror_mode": {
    "name": "ipython",
    "version": 3
   },
   "file_extension": ".py",
   "mimetype": "text/x-python",
   "name": "python",
   "nbconvert_exporter": "python",
   "pygments_lexer": "ipython3",
   "version": "3.9.13"
  }
 },
 "nbformat": 4,
 "nbformat_minor": 5
}
