{
 "cells": [
  {
   "cell_type": "markdown",
   "id": "52b7b619",
   "metadata": {},
   "source": []
  },
  {
   "cell_type": "markdown",
   "id": "c7585095",
   "metadata": {},
   "source": []
  },
  {
   "cell_type": "markdown",
   "id": "1a2b6ed7",
   "metadata": {},
   "source": []
  },
  {
   "cell_type": "markdown",
   "id": "bb79f76e",
   "metadata": {},
   "source": []
  },
  {
   "cell_type": "markdown",
   "id": "b107e323",
   "metadata": {},
   "source": []
  },
  {
   "cell_type": "markdown",
   "id": "a66c9945",
   "metadata": {},
   "source": []
  },
  {
   "cell_type": "markdown",
   "id": "2add2b1f",
   "metadata": {},
   "source": []
  },
  {
   "cell_type": "markdown",
   "id": "b03d28ec",
   "metadata": {},
   "source": []
  },
  {
   "cell_type": "markdown",
   "id": "036ff96b",
   "metadata": {},
   "source": []
  },
  {
   "cell_type": "markdown",
   "id": "d41fb836",
   "metadata": {},
   "source": []
  },
  {
   "cell_type": "markdown",
   "id": "35c70e9c",
   "metadata": {},
   "source": []
  },
  {
   "cell_type": "markdown",
   "id": "7cb3e687",
   "metadata": {},
   "source": []
  },
  {
   "cell_type": "markdown",
   "id": "a1522812",
   "metadata": {},
   "source": []
  },
  {
   "cell_type": "markdown",
   "id": "47cd84c6",
   "metadata": {},
   "source": []
  },
  {
   "cell_type": "markdown",
   "id": "5f805a98",
   "metadata": {},
   "source": []
  },
  {
   "cell_type": "markdown",
   "id": "18d7fd4d",
   "metadata": {},
   "source": []
  },
  {
   "cell_type": "markdown",
   "id": "dfce08fe",
   "metadata": {},
   "source": []
  },
  {
   "cell_type": "markdown",
   "id": "f3f69d7e",
   "metadata": {},
   "source": []
  }
 ],
 "metadata": {
  "kernelspec": {
   "display_name": "Python 3 (ipykernel)",
   "language": "python",
   "name": "python3"
  },
  "language_info": {
   "codemirror_mode": {
    "name": "ipython",
    "version": 3
   },
   "file_extension": ".py",
   "mimetype": "text/x-python",
   "name": "python",
   "nbconvert_exporter": "python",
   "pygments_lexer": "ipython3",
   "version": "3.9.13"
  }
 },
 "nbformat": 4,
 "nbformat_minor": 5
}
