{
 "cells": [
  {
   "cell_type": "markdown",
   "id": "81a426bf",
   "metadata": {},
   "source": []
  },
  {
   "cell_type": "markdown",
   "id": "31b92926",
   "metadata": {},
   "source": []
  },
  {
   "cell_type": "markdown",
   "id": "b9c5b674",
   "metadata": {},
   "source": []
  },
  {
   "cell_type": "markdown",
   "id": "49d16d72",
   "metadata": {},
   "source": []
  },
  {
   "cell_type": "markdown",
   "id": "8f0d9a76",
   "metadata": {},
   "source": []
  },
  {
   "cell_type": "markdown",
   "id": "74ec2a17",
   "metadata": {},
   "source": []
  },
  {
   "cell_type": "markdown",
   "id": "025215a0",
   "metadata": {},
   "source": []
  },
  {
   "cell_type": "markdown",
   "id": "a1ebb9e1",
   "metadata": {},
   "source": []
  }
 ],
 "metadata": {
  "kernelspec": {
   "display_name": "Python 3 (ipykernel)",
   "language": "python",
   "name": "python3"
  },
  "language_info": {
   "codemirror_mode": {
    "name": "ipython",
    "version": 3
   },
   "file_extension": ".py",
   "mimetype": "text/x-python",
   "name": "python",
   "nbconvert_exporter": "python",
   "pygments_lexer": "ipython3",
   "version": "3.9.13"
  }
 },
 "nbformat": 4,
 "nbformat_minor": 5
}
