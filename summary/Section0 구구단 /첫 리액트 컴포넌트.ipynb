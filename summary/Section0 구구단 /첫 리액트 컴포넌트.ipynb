{
 "cells": [
  {
   "cell_type": "markdown",
   "id": "16b2650c",
   "metadata": {},
   "source": [
    "# 1. 리엑트는 자바스크립트다.\n",
    "\n",
    "# 2. 리엑트는 데이터 중심으로 움직인다."
   ]
  },
  {
   "cell_type": "markdown",
   "id": "4e42df1f",
   "metadata": {},
   "source": [
    "#### 컴포넌트 : 데이터와 화면을 하나로 묶는다.\n",
    "\n",
    "#### 데이터가 바뀌면 화면이 변경 된다.\n",
    "\n",
    "#### 데이터는 State로 만든다."
   ]
  }
 ],
 "metadata": {
  "kernelspec": {
   "display_name": "Python 3 (ipykernel)",
   "language": "python",
   "name": "python3"
  },
  "language_info": {
   "codemirror_mode": {
    "name": "ipython",
    "version": 3
   },
   "file_extension": ".py",
   "mimetype": "text/x-python",
   "name": "python",
   "nbconvert_exporter": "python",
   "pygments_lexer": "ipython3",
   "version": "3.9.13"
  }
 },
 "nbformat": 4,
 "nbformat_minor": 5
}
